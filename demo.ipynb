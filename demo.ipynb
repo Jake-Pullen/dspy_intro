{
 "cells": [
  {
   "cell_type": "code",
   "execution_count": null,
   "id": "558b1417",
   "metadata": {},
   "outputs": [],
   "source": [
    "import dspy\n",
    "import random\n",
    "import os"
   ]
  },
  {
   "cell_type": "code",
   "execution_count": null,
   "id": "699ed640",
   "metadata": {},
   "outputs": [],
   "source": [
    "LOCAL=True"
   ]
  },
  {
   "cell_type": "markdown",
   "id": "ec81c11f",
   "metadata": {},
   "source": [
    "## Learn DSPy fundamentals through conversation!\n",
    "\n",
    "### This notebook demonstrates:\n",
    "\n",
    "* DSPy Modules (conversation interface)\n",
    "* DSPy Signatures (conversation interface)\n",
    "* DSPy ReAct (tool usage & agent reasoning)\n",
    "* Multi-Agent Orchestration (intelligent routing)\n",
    "* DSPy History (context management)"
   ]
  },
  {
   "cell_type": "code",
   "execution_count": null,
   "id": "e533cc32",
   "metadata": {},
   "outputs": [],
   "source": [
    "# Step 1: Configure DSPy with your LLM\n",
    "if not LOCAL:\n",
    "    MODEL='openai/gpt-5-nano'\n",
    "    API_KEY=os.getenv('OPENAI_API_KEY')\n",
    "    LLM = dspy.LM(model=MODEL, temperature=1.0, max_tokens=16000, api_key=API_KEY)\n",
    "else:\n",
    "    MODEL='lm_studio/qwen/qwen3-coder-30b'\n",
    "    API_KEY='local'\n",
    "    LLM = dspy.LM(model=MODEL, api_base=\"http://192.168.0.49:1234/v1/\", api_key=API_KEY)\n",
    "\n",
    "dspy.configure(lm=LLM)"
   ]
  },
  {
   "cell_type": "markdown",
   "id": "a7fbf0f2",
   "metadata": {},
   "source": [
    "Say hi! Real basic interface, to make sure we are connected to the LLM"
   ]
  },
  {
   "cell_type": "code",
   "execution_count": null,
   "id": "b1a8c497",
   "metadata": {},
   "outputs": [],
   "source": [
    "LLM(\"Hi there, can you send a greeting and a quick introduction of yourself!?\")"
   ]
  },
  {
   "cell_type": "markdown",
   "id": "b2705aa1",
   "metadata": {},
   "source": [
    "## Modules and Signatures.\n",
    "\n",
    "### Module is a \"method of thinking\".\n",
    "\n",
    "In the background each module uses a slightly different prompting technique.\n",
    "There are a few modules available.\n",
    "\n",
    "* **Predict**: Basic predictor. Does not modify the signature. Handles the key forms of learning.\n",
    "* **ChainOfThought**: Asks the LM to think step-by-step before committing to the signature's response.\n",
    "* **ReAct**: An agent that can use tools to implement the given signature.\n",
    "* **ProgramOfThought**: Asks the LM to output code, whose execution results will dictate the response.\n",
    "* **MultiChainComparison**: Can compare multiple outputs from ChainOfThought to produce a final prediction.\n",
    "* [More on the dspy docs](https://dspy.ai/learn/programming/modules/#what-other-dspy-modules-are-there-how-can-i-use-them)\n",
    "\n",
    "### Signature is the input | output and extra contextual instructions to the LLM\n",
    "\n",
    "This also affects the prompt sent to the LLM, keep it loose do not try to optimise keywords."
   ]
  },
  {
   "cell_type": "code",
   "execution_count": null,
   "id": "33cbb7e7",
   "metadata": {},
   "outputs": [],
   "source": [
    "qa = dspy.ChainOfThought(\n",
    "    dspy.Signature('question -> answer')\n",
    ")\n",
    "\n",
    "question=\"What Year was The Eiffel Tower built?\"\n",
    "\n",
    "response = qa(question=question)\n",
    "\n",
    "print(f'{MODEL}:', response.answer,'\\n')\n",
    "print(response.reasoning)"
   ]
  },
  {
   "cell_type": "code",
   "execution_count": null,
   "id": "eeef57fd",
   "metadata": {},
   "outputs": [],
   "source": [
    "what_month = dspy.Predict(\n",
    "    dspy.Signature('description_of_a_month:str -> month:str')\n",
    ")\n",
    "\n",
    "\n",
    "strings = [\n",
    "    \"The first month of the year\",\n",
    "    \"The month of leaves\",\n",
    "    \"The month with the least amount of days\",\n",
    "    \"The month of spring begins\",\n",
    "    \"The month after April\",\n",
    "    \"The one that has easter\",\n",
    "    \"The month of summer begins\",\n",
    "    \"The month of autumn begins\",\n",
    "    \"The month of winter begins\",\n",
    "    \"The one that has haloween\",\n",
    "    \"The month of snow\",\n",
    "    'The third in the calendar'\n",
    "]\n",
    "for describe_a_month in strings:\n",
    "    print(describe_a_month)\n",
    "\n",
    "    response = what_month(description_of_a_month=describe_a_month)\n",
    "\n",
    "    print('   *',response.month)"
   ]
  },
  {
   "cell_type": "code",
   "execution_count": null,
   "id": "e497e16e",
   "metadata": {},
   "outputs": [],
   "source": [
    "text = \"Apple Inc. Announced its latest iPhone 17 today. The CEO, Tim Cook, highlighted its new features in a press release.\"\n",
    "\n",
    "structuriser = dspy.Predict(\"text -> title, headings: list[str], entities_and_metadata: list[dict[str, str]]\")\n",
    "response = structuriser(text=text)\n",
    "\n",
    "print(response.title)\n",
    "print(response.headings)\n",
    "print(response.entities_and_metadata)"
   ]
  },
  {
   "cell_type": "code",
   "execution_count": null,
   "id": "74694167",
   "metadata": {},
   "outputs": [],
   "source": [
    "print(f'There are {len(LLM.history)} items in the history\\n')  \n",
    "\n",
    "print(LLM.history[-1].keys(),'\\n')  # access the last call to the LM, with all metadata\n",
    "\n",
    "for item in LLM.history[-1:]:  \n",
    "    for key, value in item.items():  \n",
    "        print(f'{key}: {value}')  \n",
    "    print('\\n')\n"
   ]
  },
  {
   "cell_type": "code",
   "execution_count": null,
   "id": "a661d152",
   "metadata": {},
   "outputs": [],
   "source": [
    "toxicity = dspy.Predict(\n",
    "    dspy.Signature(\n",
    "        \"comment:str -> toxic: bool\",\n",
    "        instructions=\"Mark as 'toxic' if the comment includes insults, harassment, or sarcastic derogatory remarks.\",\n",
    "    )\n",
    ")\n",
    "\n",
    "comments = [\n",
    "    \"you are ugly.\",\n",
    "    \"What a nice guy!\",\n",
    "    \"I hate you so much\",\n",
    "    \"Great job on that project!\",\n",
    "    \"You're worthless\",\n",
    "    \"Thank you for your help\",\n",
    "    \"Stop being so stupid\",\n",
    "    \"You did an amazing work\",\n",
    "    \"I can't stand you\",\n",
    "    \"I appreciate your effort\"\n",
    "]\n",
    "\n",
    "for comment in comments:\n",
    "    print(comment,'\\n  Toxic?:', toxicity(comment=comment).toxic)"
   ]
  },
  {
   "cell_type": "code",
   "execution_count": null,
   "id": "9e767029",
   "metadata": {},
   "outputs": [],
   "source": [
    "sentences = [\n",
    "    \"I'm so frustrated with this terrible service and endless waiting times.\",\n",
    "    \"The weather is disappointing, but at least we have indoor activities.\",\n",
    "    \"The meeting was scheduled for 3 PM, which is standard for our team.\",\n",
    "    \"I'm feeling better after getting some rest and fresh air.\",\n",
    "    \"What an amazing day filled with wonderful surprises and joyful moments!\",\n",
    "    \"This product is absolutely horrible and waste of money.\",\n",
    "    \"The customer support was very helpful and solved my issue quickly.\",\n",
    "    \"I hate this movie, it's boring and poorly acted.\",\n",
    "    \"The restaurant had excellent food and great atmosphere.\",\n",
    "    \"This software is confusing and difficult to use.\"\n",
    "]\n",
    "\n",
    "sentiment_analysis = dspy.Predict(\n",
    "    dspy.Signature(\n",
    "        'sentence -> sentiment: int',\n",
    "        instructions= \"Give me a value from 1-10 indicating the sentiment, 1 being very negative and 10 being overwhelmingly positive\",\n",
    "        )\n",
    "    )\n",
    "\n",
    "for sentence in sentences:\n",
    "    print(sentence)\n",
    "    print(f'{sentiment_analysis(sentence=sentence).sentiment} out of 10\\n')"
   ]
  },
  {
   "cell_type": "code",
   "execution_count": null,
   "id": "57fe9e0b",
   "metadata": {},
   "outputs": [],
   "source": [
    "short_story = \"\"\"The rain hammered against the cracked pavement as Marcus clutched his worn canvas bag, his weathered hands trembling slightly from the cold. He had been selling hot coffee and bagels on this corner for fifteen years, ever since his wife passed away, but tonight felt different—perhaps because the steady stream of commuters had thinned to just a few desperate souls seeking warmth. His small cart, tucked between the towering glass buildings, cast a faint glow through the misty darkness, and he watched as an elderly woman with a umbrella approached, her face illuminated by the yellow light. She purchased his last cup of coffee, and as she walked away, Marcus smiled, knowing that even in the rain, someone was still finding comfort in his simple offering.\n",
    "The city's endless rhythm continued around him, but for this moment, he felt like he was making a difference. The rain had been falling for hours now, turning the streets into rivers of gray water that reflected the neon signs of the nearby restaurants and stores. His cart, though modest, had become a familiar presence on this corner, a small oasis in the concrete jungle where people could pause, warm themselves, and perhaps find a moment of human connection in their hurried lives.\n",
    "As he wiped the condensation from his coffee cup, Marcus noticed a young man huddled under an overpass nearby, his jacket soaked through. The boy's eyes met Marcus's, and for a brief second, there was something in that look—hope, maybe desperation, or simply recognition of shared struggle. Marcus reached into his bag and pulled out another cup of coffee, offering it to the boy without hesitation. The young man accepted it with a quiet \"thank you,\" and Marcus felt that familiar warmth spreading through his chest, the kind that only comes from knowing you've made someone's night just a little bit better.\n",
    "The rain continued its relentless assault, but Marcus was no longer alone in the darkness. He had become more than just a vendor; he had become a small beacon of humanity in a city that often forgot to look up and notice the people who were trying to keep it all together, one cup of coffee at a time.\n",
    "\"\"\"\n",
    "print(f'original length (characters): {len(short_story)}')\n",
    "\n",
    "summarize = dspy.ChainOfThought(\n",
    "    dspy.Signature('story -> summary')\n",
    ")\n",
    "response = summarize(story=short_story)\n",
    "print(f'summarised length (characters): {len(response.summary)}')\n",
    "\n",
    "print(response.summary)\n",
    "# print(\"Reasoning:\", response.reasoning)"
   ]
  },
  {
   "cell_type": "markdown",
   "id": "1cb32ca3",
   "metadata": {},
   "source": [
    "# Agents and Tools"
   ]
  },
  {
   "cell_type": "code",
   "execution_count": null,
   "id": "d464005a",
   "metadata": {},
   "outputs": [],
   "source": [
    "def roll_dice(sides: int = 6) -> str:\n",
    "    \"\"\"Roll a die with specified number of sides (default 6).\"\"\"\n",
    "    result = random.randint(1, sides)\n",
    "    return result\n",
    "\n",
    "def flip_coin() -> str:\n",
    "    \"\"\"Flip a coin and return heads or tails.\"\"\"\n",
    "    return random.choice([\"Heads\", \"Tails\"])\n",
    "\n",
    "def pick_random_card(num_cards: int = 1) -> str:\n",
    "    \"\"\"\n",
    "    Pick a specified number of random cards from a standard 52-card deck.\n",
    "\n",
    "    Args:\n",
    "        num_cards (int, default 1): The number of cards to randomly select from the deck\n",
    "\n",
    "    Returns:\n",
    "        list: A list of randomly selected card strings in the format \"Rank of Suit\"\n",
    "\n",
    "    Example:\n",
    "        >>> pick_random_card(3)\n",
    "        ['Ace of Hearts', '7 of Spades', 'King of Diamonds']\n",
    "    \"\"\"\n",
    "\n",
    "    suits = ['Hearts', 'Diamonds', 'Clubs', 'Spades']\n",
    "    ranks = ['Ace', '2', '3', '4', '5', '6', '7', '8', '9', '10', 'Jack', 'Queen', 'King']\n",
    "    deck = [f\"{rank} of {suit}\" for suit in suits for rank in ranks]\n",
    "    return random.sample(deck, num_cards)"
   ]
  },
  {
   "cell_type": "code",
   "execution_count": null,
   "id": "3b08e3e6",
   "metadata": {},
   "outputs": [],
   "source": [
    "react_agent = dspy.ReAct(\n",
    "    signature=\"question -> answer\",\n",
    "    tools=[pick_random_card, roll_dice, flip_coin]\n",
    ")"
   ]
  },
  {
   "cell_type": "code",
   "execution_count": null,
   "id": "496d142f",
   "metadata": {},
   "outputs": [],
   "source": [
    "result = react_agent(question=\"lets play a card game, deal me 5 cards\")\n",
    "print(result.answer)\n",
    "print(\"Tool calls made:\", result.trajectory)"
   ]
  },
  {
   "cell_type": "code",
   "execution_count": null,
   "id": "f34e5083",
   "metadata": {},
   "outputs": [],
   "source": [
    "result = react_agent(question=\"Pick 3 random cards, if any of them are a face card, roll a D20\")\n",
    "print(result.answer)\n",
    "print(\"Tool calls made:\", result.trajectory)"
   ]
  },
  {
   "cell_type": "markdown",
   "id": "7b329ca7",
   "metadata": {},
   "source": [
    "# Multi-Agent Orchestration"
   ]
  },
  {
   "cell_type": "code",
   "execution_count": null,
   "id": "c3e23b90",
   "metadata": {},
   "outputs": [],
   "source": [
    "# Games Expert Agent\n",
    "class GamesExpertSignature(dspy.Signature):\n",
    "    \"\"\"You are a fun and enthusiastic game master AI. When handling games like dice rolls \n",
    "    or coin flips, be playful and engaging. Add excitement and personality to the results. \n",
    "    Make it fun!\"\"\"\n",
    "    question: str = dspy.InputField(desc=\"Game or random activity request\")\n",
    "    answer: str = dspy.OutputField(desc=\"Fun and engaging game result\")\n",
    "\n",
    "games_expert_agent = dspy.ReAct(\n",
    "    signature=GamesExpertSignature,\n",
    "    tools=[pick_random_card, roll_dice, flip_coin]\n",
    ")\n",
    "\n",
    "def consult_games_expert(question: str) -> str:\n",
    "    \"\"\"Use this expert when the user wants to play games, roll dice, flip coins, make random choices, \n",
    "    or needs help with any luck-based or random activities. This expert makes it fun!\"\"\"\n",
    "    result = games_expert_agent(question=question)\n",
    "    return result.answer"
   ]
  },
  {
   "cell_type": "code",
   "execution_count": null,
   "id": "60b543a5",
   "metadata": {},
   "outputs": [],
   "source": [
    "# Step 5: Create the Orchestrator Agent\n",
    "class OrchestratorSignature(dspy.Signature):\n",
    "    \"\"\"You are a helpful AI assistant orchestrator. Your job is to understand what the user needs \n",
    "    and route their question to the appropriate expert agent. Read the tool descriptions carefully \n",
    "    to decide which expert can best help. If the question doesn't need a specialized expert, \n",
    "    answer it yourself using general knowledge.\"\"\"\n",
    "    question: str = dspy.InputField()\n",
    "    history: dspy.History = dspy.InputField()\n",
    "    answer: str = dspy.OutputField()\n",
    "\n",
    "orchestrator = dspy.ReAct(\n",
    "    signature=OrchestratorSignature,\n",
    "    tools=[consult_games_expert],\n",
    "    max_iters=10\n",
    "    )"
   ]
  },
  {
   "cell_type": "code",
   "execution_count": null,
   "id": "d9750471",
   "metadata": {},
   "outputs": [],
   "source": [
    "history = dspy.History(messages=[])\n",
    "\n",
    "question='Hi there, can you tell me your name and then flip a coin?'\n",
    "result = orchestrator(question=question, history=history)\n",
    "answer = result.answer\n",
    "\n",
    "history.messages.append({\"question\": question, **result})\n",
    "print(answer)\n",
    "print(result.trajectory)"
   ]
  },
  {
   "cell_type": "code",
   "execution_count": null,
   "id": "ce194e50",
   "metadata": {},
   "outputs": [],
   "source": [
    "# Check if any expert agents were called\n",
    "expert_calls = []\n",
    "\n",
    "for key, value in result.trajectory.items():\n",
    "    if 'tool_name' in key and value != 'finish':\n",
    "        expert_calls.append(str(value))\n",
    "\n",
    "if expert_calls:\n",
    "    print(f\"🔀 Routed to: {', '.join(set(expert_calls))}\")\n",
    "else:\n",
    "    print(\"💬 Handled directly by orchestrator\")\n"
   ]
  }
 ],
 "metadata": {
  "kernelspec": {
   "display_name": "dspy-intro",
   "language": "python",
   "name": "python3"
  },
  "language_info": {
   "codemirror_mode": {
    "name": "ipython",
    "version": 3
   },
   "file_extension": ".py",
   "mimetype": "text/x-python",
   "name": "python",
   "nbconvert_exporter": "python",
   "pygments_lexer": "ipython3",
   "version": "3.11.13"
  }
 },
 "nbformat": 4,
 "nbformat_minor": 5
}
